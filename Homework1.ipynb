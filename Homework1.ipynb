{
 "cells": [
  {
   "cell_type": "code",
   "execution_count": 1,
   "id": "b9f5a820",
   "metadata": {},
   "outputs": [],
   "source": [
    "import torch  \n",
    "from torch import nn, optim  \n",
    "import torch.nn.functional as F \n",
    "from torchvision import datasets, transforms\n",
    "import matplotlib.pyplot as plt\n",
    "import numpy as np"
   ]
  },
  {
   "cell_type": "code",
   "execution_count": 2,
   "id": "ddba282c",
   "metadata": {},
   "outputs": [
    {
     "name": "stderr",
     "output_type": "stream",
     "text": [
      "E:\\Anaconda\\envs\\pytorch\\lib\\site-packages\\torchvision\\datasets\\mnist.py:498: UserWarning: The given NumPy array is not writeable, and PyTorch does not support non-writeable tensors. This means you can write to the underlying (supposedly non-writeable) NumPy array using the tensor. You may want to copy the array to protect its data or make it writeable before converting it to a tensor. This type of warning will be suppressed for the rest of this program. (Triggered internally at  ..\\torch\\csrc\\utils\\tensor_numpy.cpp:180.)\n",
      "  return torch.from_numpy(parsed.astype(m[2], copy=False)).view(*s)\n"
     ]
    }
   ],
   "source": [
    "transform = transforms.Compose([transforms.ToTensor(),transforms.Normalize((0.5,), (0.5,))])\n",
    "# datasets\n",
    "trainset = datasets.FashionMNIST('./data',\n",
    " download=True,\n",
    " train=True,\n",
    " transform=transform)\n",
    "trainloader = torch.utils.data.DataLoader(trainset, batch_size=30,\n",
    " shuffle=True, num_workers=2)\n",
    "testset =datasets.FashionMNIST('./data',\n",
    " download=True,\n",
    " train=False,\n",
    " transform=transform)\n",
    "testloader = torch.utils.data.DataLoader(testset, batch_size=30,\n",
    " shuffle=False, num_workers=2)"
   ]
  },
  {
   "cell_type": "code",
   "execution_count": 3,
   "id": "c722521d",
   "metadata": {},
   "outputs": [],
   "source": [
    "class fication(nn.Module):\n",
    "    def __init__(self):\n",
    "        super().__init__()\n",
    "        self.fc1=nn.Linear(784,1024)\n",
    "        self.fc2=nn.Linear(1024,10)\n",
    "        \n",
    "    def forward(self,x):\n",
    "        \n",
    "            x = x.view(x.shape[0], -1)\n",
    "            x = F.relu(self.fc1(x))\n",
    "            x = F.log_softmax(self.fc2(x), dim=1)\n",
    "            return x\n",
    "        "
   ]
  },
  {
   "cell_type": "code",
   "execution_count": 4,
   "id": "3080dfc2",
   "metadata": {},
   "outputs": [
    {
     "name": "stdout",
     "output_type": "stream",
     "text": [
      "tensor(0.8921, grad_fn=<NllLossBackward>)\n",
      "tensor(0.7177, grad_fn=<NllLossBackward>)\n"
     ]
    }
   ],
   "source": [
    "\n",
    "module=fication()\n",
    "criterion = nn.CrossEntropyLoss()\n",
    "optimizer=optim.SGD(module.parameters(), lr=0.001, momentum=0)\n",
    "epochs = 2\n",
    "losses=[]\n",
    "for i in range(epochs):\n",
    "    for images, labels in trainloader:\n",
    "        optimizer.zero_grad()\n",
    "        \n",
    "        log_ps=module(images)\n",
    "        loss=criterion(log_ps,labels)\n",
    "        loss.backward()\n",
    "        optimizer.step()\n",
    "      \n",
    "    print(loss)\n",
    "   # losses.append(loss)\n",
    "\n",
    "\n"
   ]
  },
  {
   "cell_type": "code",
   "execution_count": 5,
   "id": "0c480fd8",
   "metadata": {},
   "outputs": [
    {
     "name": "stdout",
     "output_type": "stream",
     "text": [
      "tensor(0.9442, grad_fn=<NllLossBackward>)\n",
      "tensor(0.6694, grad_fn=<NllLossBackward>)\n"
     ]
    }
   ],
   "source": [
    "class fication2(nn.Module):\n",
    "    def __init__(self):\n",
    "        super().__init__()\n",
    "        self.fc1=nn.Linear(784,1024)\n",
    "        self.fc2=nn.Linear(1024,1024)\n",
    "        self.fc3=nn.Linear(1024,10)\n",
    "        \n",
    "    def forward(self,x):\n",
    "        \n",
    "            x = x.view(x.shape[0], -1)\n",
    "            x = F.relu(self.fc1(x))\n",
    "            x = F.relu(self.fc2(x))\n",
    "            x = F.log_softmax(self.fc3(x), dim=1)\n",
    "            return x\n",
    "module2=fication2()\n",
    "criterion = nn.CrossEntropyLoss()\n",
    "optimizer=optim.SGD(module2.parameters(), lr=0.001, momentum=0)\n",
    "epochs = 2\n",
    "losses2=[]\n",
    "for i in range(epochs):\n",
    "    for images, labels in trainloader:\n",
    "        optimizer.zero_grad()\n",
    "        \n",
    "        log_ps2=module2(images)\n",
    "        loss2=criterion(log_ps2,labels)\n",
    "        loss2.backward()\n",
    "        optimizer.step()\n",
    "      \n",
    "    print(loss2)\n",
    "   #  losses2.append(loss2)\n",
    "       \n",
    "    \n",
    "        "
   ]
  },
  {
   "cell_type": "code",
   "execution_count": null,
   "id": "26ca6b3e",
   "metadata": {},
   "outputs": [],
   "source": []
  }
 ],
 "metadata": {
  "kernelspec": {
   "display_name": "Pytorch for Deeplearning",
   "language": "python",
   "name": "pytorch"
  },
  "language_info": {
   "codemirror_mode": {
    "name": "ipython",
    "version": 3
   },
   "file_extension": ".py",
   "mimetype": "text/x-python",
   "name": "python",
   "nbconvert_exporter": "python",
   "pygments_lexer": "ipython3",
   "version": "3.9.7"
  }
 },
 "nbformat": 4,
 "nbformat_minor": 5
}
